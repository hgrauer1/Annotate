{
 "cells": [
  {
   "cell_type": "code",
   "execution_count": 1,
   "metadata": {},
   "outputs": [],
   "source": [
    "import pandas as pd"
   ]
  },
  {
   "cell_type": "code",
   "execution_count": 2,
   "metadata": {},
   "outputs": [],
   "source": [
    "def filter_classes(input_csv, output_csv, exclude_classes):\n",
    "    # Read the input CSV file\n",
    "    df = pd.read_csv(input_csv)\n",
    "\n",
    "    # Filter out rows that have the classes to exclude\n",
    "    filtered_df = df[~df['class'].isin(exclude_classes)]\n",
    "\n",
    "    # Save the filtered DataFrame as a new CSV file\n",
    "    filtered_df.to_csv(output_csv, index=False)"
   ]
  },
  {
   "cell_type": "code",
   "execution_count": 3,
   "metadata": {},
   "outputs": [],
   "source": [
    "input_csv = 'annotations_300_sim.csv'\n",
    "output_csv = 'annotations_300_sim_filtered.csv'\n",
    "exclude_classes = ['Small Antenna', 'Large Antenna']\n",
    "filter_classes(input_csv, output_csv, exclude_classes)"
   ]
  }
 ],
 "metadata": {
  "kernelspec": {
   "display_name": "Python 3.8.5 64-bit",
   "language": "python",
   "name": "python3"
  },
  "language_info": {
   "codemirror_mode": {
    "name": "ipython",
    "version": 3
   },
   "file_extension": ".py",
   "mimetype": "text/x-python",
   "name": "python",
   "nbconvert_exporter": "python",
   "pygments_lexer": "ipython3",
   "version": "3.8.5"
  },
  "orig_nbformat": 4,
  "vscode": {
   "interpreter": {
    "hash": "082e9a3bcad0a290d0001e938aa60b99250c6c2ef33a923c00b70f9826caf4b7"
   }
  }
 },
 "nbformat": 4,
 "nbformat_minor": 2
}
